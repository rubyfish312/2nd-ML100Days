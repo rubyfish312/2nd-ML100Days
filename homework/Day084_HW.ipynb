{
 "cells": [
  {
   "cell_type": "markdown",
   "metadata": {},
   "source": [
    "## Work\n",
    "### 請結合前面的知識與程式碼，比較不同的 regularization 的組合對訓練的結果與影響：如 dropout, regularizers, batch-normalization 等"
   ]
  },
  {
   "cell_type": "code",
   "execution_count": 1,
   "metadata": {},
   "outputs": [
    {
     "name": "stderr",
     "output_type": "stream",
     "text": [
      "Using TensorFlow backend.\n"
     ]
    }
   ],
   "source": [
    "import os\n",
    "import keras\n",
    "import itertools\n",
    "# Disable GPU\n",
    "os.environ[\"CUDA_VISIBLE_DEVICES\"] = \"\""
   ]
  },
  {
   "cell_type": "code",
   "execution_count": 2,
   "metadata": {},
   "outputs": [],
   "source": [
    "train, test = keras.datasets.cifar10.load_data()"
   ]
  },
  {
   "cell_type": "code",
   "execution_count": 3,
   "metadata": {},
   "outputs": [],
   "source": [
    "## 資料前處理\n",
    "def preproc_x(x, flatten=True):\n",
    "    x = x / 255.\n",
    "    if flatten:\n",
    "        x = x.reshape((len(x), -1))\n",
    "    return x\n",
    "\n",
    "def preproc_y(y, num_classes=10):\n",
    "    if y.shape[-1] == 1:\n",
    "        y = keras.utils.to_categorical(y, num_classes)\n",
    "    return y    "
   ]
  },
  {
   "cell_type": "code",
   "execution_count": 4,
   "metadata": {},
   "outputs": [],
   "source": [
    "x_train, y_train = train\n",
    "x_test, y_test = test\n",
    "\n",
    "# Preproc the inputs\n",
    "x_train = preproc_x(x_train)\n",
    "x_test = preproc_x(x_test)\n",
    "\n",
    "# Preprc the outputs\n",
    "y_train = preproc_y(y_train)\n",
    "y_test = preproc_y(y_test)"
   ]
  },
  {
   "cell_type": "code",
   "execution_count": 5,
   "metadata": {},
   "outputs": [],
   "source": [
    "\n",
    "from keras.layers import BatchNormalization\n",
    "\n",
    "\"\"\"\n",
    "建立神經網路，並加入 BN layer\n",
    "\"\"\"\n",
    "def build_mlp(input_shape, output_units=10, num_neurons=[1024, 512, 256, 128]):\n",
    "    input_layer = keras.layers.Input(input_shape)\n",
    "    x = BatchNormalization()(input_layer)\n",
    "    for i, n_units in enumerate(num_neurons):\n",
    "        if i == 0:\n",
    "            x = keras.layers.Dense(units=n_units, \n",
    "                                   activation=\"relu\", \n",
    "                                   name=\"hidden_layer\"+str(i+1))(input_layer)\n",
    "            x = BatchNormalization()(x)\n",
    "        else:\n",
    "            x = keras.layers.Dense(units=n_units, \n",
    "                                   activation=\"relu\", \n",
    "                                   name=\"hidden_layer\"+str(i+1))(x)\n",
    "            x = BatchNormalization()(x)\n",
    "    \n",
    "    out = keras.layers.Dense(units=output_units, activation=\"softmax\", name=\"output\")(x)\n",
    "    \n",
    "    model = keras.models.Model(inputs=[input_layer], outputs=[out])\n",
    "    return model"
   ]
  },
  {
   "cell_type": "code",
   "execution_count": 6,
   "metadata": {},
   "outputs": [],
   "source": [
    "\"\"\"Code Here\n",
    "設定超參數\n",
    "\"\"\"\n",
    "LEARNING_RATE = 1e-3\n",
    "EPOCHS = 50\n",
    "BATCH_SIZE = 256\n",
    "MOMENTUM = 0.95"
   ]
  },
  {
   "cell_type": "code",
   "execution_count": 7,
   "metadata": {
    "scrolled": true
   },
   "outputs": [
    {
     "name": "stderr",
     "output_type": "stream",
     "text": [
      "WARNING: Logging before flag parsing goes to stderr.\n",
      "W0723 08:10:47.561430 11960 deprecation_wrapper.py:119] From C:\\Users\\User\\AppData\\Roaming\\Python\\Python36\\site-packages\\keras\\backend\\tensorflow_backend.py:71: The name tf.get_default_graph is deprecated. Please use tf.compat.v1.get_default_graph instead.\n",
      "\n",
      "W0723 08:10:47.751638 11960 deprecation_wrapper.py:119] From C:\\Users\\User\\AppData\\Roaming\\Python\\Python36\\site-packages\\keras\\backend\\tensorflow_backend.py:514: The name tf.placeholder is deprecated. Please use tf.compat.v1.placeholder instead.\n",
      "\n",
      "W0723 08:10:47.991940 11960 deprecation_wrapper.py:119] From C:\\Users\\User\\AppData\\Roaming\\Python\\Python36\\site-packages\\keras\\backend\\tensorflow_backend.py:130: The name tf.placeholder_with_default is deprecated. Please use tf.compat.v1.placeholder_with_default instead.\n",
      "\n",
      "W0723 08:10:48.048281 11960 deprecation_wrapper.py:119] From C:\\Users\\User\\AppData\\Roaming\\Python\\Python36\\site-packages\\keras\\backend\\tensorflow_backend.py:4076: The name tf.random_uniform is deprecated. Please use tf.random.uniform instead.\n",
      "\n",
      "W0723 08:10:48.368540 11960 deprecation_wrapper.py:119] From C:\\Users\\User\\AppData\\Roaming\\Python\\Python36\\site-packages\\keras\\optimizers.py:757: The name tf.train.Optimizer is deprecated. Please use tf.compat.v1.train.Optimizer instead.\n",
      "\n",
      "W0723 08:10:48.376518 11960 deprecation_wrapper.py:119] From C:\\Users\\User\\AppData\\Roaming\\Python\\Python36\\site-packages\\keras\\backend\\tensorflow_backend.py:3213: The name tf.log is deprecated. Please use tf.math.log instead.\n",
      "\n",
      "W0723 08:10:48.471377 11960 deprecation.py:323] From C:\\Users\\User\\AppData\\Roaming\\Python\\Python36\\site-packages\\tensorflow\\python\\ops\\math_grad.py:1250: add_dispatch_support.<locals>.wrapper (from tensorflow.python.ops.array_ops) is deprecated and will be removed in a future version.\n",
      "Instructions for updating:\n",
      "Use tf.where in 2.0, which has the same broadcast rule as np.where\n"
     ]
    },
    {
     "name": "stdout",
     "output_type": "stream",
     "text": [
      "_________________________________________________________________\n",
      "Layer (type)                 Output Shape              Param #   \n",
      "=================================================================\n",
      "input_1 (InputLayer)         (None, 3072)              0         \n",
      "_________________________________________________________________\n",
      "hidden_layer1 (Dense)        (None, 1024)              3146752   \n",
      "_________________________________________________________________\n",
      "batch_normalization_2 (Batch (None, 1024)              4096      \n",
      "_________________________________________________________________\n",
      "hidden_layer2 (Dense)        (None, 512)               524800    \n",
      "_________________________________________________________________\n",
      "batch_normalization_3 (Batch (None, 512)               2048      \n",
      "_________________________________________________________________\n",
      "hidden_layer3 (Dense)        (None, 256)               131328    \n",
      "_________________________________________________________________\n",
      "batch_normalization_4 (Batch (None, 256)               1024      \n",
      "_________________________________________________________________\n",
      "hidden_layer4 (Dense)        (None, 128)               32896     \n",
      "_________________________________________________________________\n",
      "batch_normalization_5 (Batch (None, 128)               512       \n",
      "_________________________________________________________________\n",
      "output (Dense)               (None, 10)                1290      \n",
      "=================================================================\n",
      "Total params: 3,844,746\n",
      "Trainable params: 3,840,906\n",
      "Non-trainable params: 3,840\n",
      "_________________________________________________________________\n",
      "Train on 50000 samples, validate on 10000 samples\n",
      "Epoch 1/50\n",
      "50000/50000 [==============================] - 19s 370us/step - loss: 1.8488 - acc: 0.3634 - val_loss: 1.7739 - val_acc: 0.3897\n",
      "Epoch 2/50\n",
      "50000/50000 [==============================] - 17s 334us/step - loss: 1.4936 - acc: 0.4757 - val_loss: 1.5817 - val_acc: 0.4437\n",
      "Epoch 3/50\n",
      "50000/50000 [==============================] - 16s 311us/step - loss: 1.3660 - acc: 0.5230 - val_loss: 1.5599 - val_acc: 0.4484\n",
      "Epoch 4/50\n",
      "50000/50000 [==============================] - 15s 309us/step - loss: 1.2789 - acc: 0.5513 - val_loss: 1.5329 - val_acc: 0.4539\n",
      "Epoch 5/50\n",
      "50000/50000 [==============================] - 15s 308us/step - loss: 1.1947 - acc: 0.5816 - val_loss: 1.5044 - val_acc: 0.4731\n",
      "Epoch 6/50\n",
      "50000/50000 [==============================] - 16s 315us/step - loss: 1.1171 - acc: 0.6105 - val_loss: 1.4962 - val_acc: 0.4741\n",
      "Epoch 7/50\n",
      "50000/50000 [==============================] - 15s 310us/step - loss: 1.0565 - acc: 0.6311 - val_loss: 1.5505 - val_acc: 0.4714\n",
      "Epoch 8/50\n",
      "50000/50000 [==============================] - 16s 311us/step - loss: 0.9948 - acc: 0.6555 - val_loss: 1.5669 - val_acc: 0.4600\n",
      "Epoch 9/50\n",
      "50000/50000 [==============================] - 15s 309us/step - loss: 0.9276 - acc: 0.6802 - val_loss: 1.5188 - val_acc: 0.4809\n",
      "Epoch 10/50\n",
      "50000/50000 [==============================] - 16s 311us/step - loss: 0.8673 - acc: 0.7026 - val_loss: 1.5409 - val_acc: 0.4896\n",
      "Epoch 11/50\n",
      "50000/50000 [==============================] - 16s 312us/step - loss: 0.8059 - acc: 0.7262 - val_loss: 1.5582 - val_acc: 0.4854\n",
      "Epoch 12/50\n",
      "50000/50000 [==============================] - 16s 315us/step - loss: 0.7506 - acc: 0.7453 - val_loss: 1.6294 - val_acc: 0.4744\n",
      "Epoch 13/50\n",
      "50000/50000 [==============================] - 16s 315us/step - loss: 0.7025 - acc: 0.7596 - val_loss: 1.6109 - val_acc: 0.4864\n",
      "Epoch 14/50\n",
      "50000/50000 [==============================] - 16s 318us/step - loss: 0.6495 - acc: 0.7813 - val_loss: 1.7151 - val_acc: 0.4676\n",
      "Epoch 15/50\n",
      "50000/50000 [==============================] - 16s 316us/step - loss: 0.5953 - acc: 0.8026 - val_loss: 1.7591 - val_acc: 0.4626\n",
      "Epoch 16/50\n",
      "50000/50000 [==============================] - 16s 320us/step - loss: 0.5455 - acc: 0.8214 - val_loss: 1.7840 - val_acc: 0.4675\n",
      "Epoch 17/50\n",
      "50000/50000 [==============================] - 16s 317us/step - loss: 0.5013 - acc: 0.8374 - val_loss: 1.8630 - val_acc: 0.4649\n",
      "Epoch 18/50\n",
      "50000/50000 [==============================] - 16s 328us/step - loss: 0.4533 - acc: 0.8568 - val_loss: 1.8840 - val_acc: 0.4544\n",
      "Epoch 19/50\n",
      "50000/50000 [==============================] - 16s 327us/step - loss: 0.4140 - acc: 0.8695 - val_loss: 1.9521 - val_acc: 0.4628\n",
      "Epoch 20/50\n",
      "50000/50000 [==============================] - 17s 336us/step - loss: 0.3764 - acc: 0.8842 - val_loss: 1.9384 - val_acc: 0.4605\n",
      "Epoch 21/50\n",
      "50000/50000 [==============================] - 16s 327us/step - loss: 0.3399 - acc: 0.8972 - val_loss: 2.0338 - val_acc: 0.4628\n",
      "Epoch 22/50\n",
      "50000/50000 [==============================] - 16s 321us/step - loss: 0.2979 - acc: 0.9126 - val_loss: 1.9594 - val_acc: 0.4743\n",
      "Epoch 23/50\n",
      "50000/50000 [==============================] - 16s 316us/step - loss: 0.2720 - acc: 0.9229 - val_loss: 2.0652 - val_acc: 0.4744\n",
      "Epoch 24/50\n",
      "50000/50000 [==============================] - 16s 321us/step - loss: 0.2442 - acc: 0.9294 - val_loss: 2.0835 - val_acc: 0.4798\n",
      "Epoch 25/50\n",
      "50000/50000 [==============================] - 16s 321us/step - loss: 0.2175 - acc: 0.9401 - val_loss: 2.2331 - val_acc: 0.4713\n",
      "Epoch 26/50\n",
      "50000/50000 [==============================] - 17s 332us/step - loss: 0.1944 - acc: 0.9480 - val_loss: 2.2359 - val_acc: 0.4511\n",
      "Epoch 27/50\n",
      "50000/50000 [==============================] - 16s 328us/step - loss: 0.1732 - acc: 0.9552 - val_loss: 2.1375 - val_acc: 0.4897\n",
      "Epoch 28/50\n",
      "50000/50000 [==============================] - 16s 328us/step - loss: 0.1624 - acc: 0.9575 - val_loss: 2.3178 - val_acc: 0.4635\n",
      "Epoch 29/50\n",
      "50000/50000 [==============================] - 17s 339us/step - loss: 0.1468 - acc: 0.9629 - val_loss: 2.2813 - val_acc: 0.4680\n",
      "Epoch 30/50\n",
      "50000/50000 [==============================] - 17s 338us/step - loss: 0.1252 - acc: 0.9716 - val_loss: 2.3201 - val_acc: 0.4788\n",
      "Epoch 31/50\n",
      "50000/50000 [==============================] - 17s 332us/step - loss: 0.1148 - acc: 0.9744 - val_loss: 2.4368 - val_acc: 0.4781\n",
      "Epoch 32/50\n",
      "50000/50000 [==============================] - 16s 326us/step - loss: 0.1037 - acc: 0.9775 - val_loss: 2.4741 - val_acc: 0.4712\n",
      "Epoch 33/50\n",
      "50000/50000 [==============================] - 16s 326us/step - loss: 0.0919 - acc: 0.9814 - val_loss: 2.3756 - val_acc: 0.4857\n",
      "Epoch 34/50\n",
      "50000/50000 [==============================] - 18s 358us/step - loss: 0.0788 - acc: 0.9853 - val_loss: 2.5236 - val_acc: 0.4744\n",
      "Epoch 35/50\n",
      "50000/50000 [==============================] - 17s 350us/step - loss: 0.0732 - acc: 0.9865 - val_loss: 2.5116 - val_acc: 0.4749\n",
      "Epoch 36/50\n",
      "50000/50000 [==============================] - 17s 349us/step - loss: 0.0684 - acc: 0.9870 - val_loss: 2.5636 - val_acc: 0.4797\n",
      "Epoch 37/50\n",
      "50000/50000 [==============================] - 17s 349us/step - loss: 0.0623 - acc: 0.9882 - val_loss: 2.5423 - val_acc: 0.4878\n",
      "Epoch 38/50\n",
      "50000/50000 [==============================] - 17s 348us/step - loss: 0.0607 - acc: 0.9887 - val_loss: 2.5871 - val_acc: 0.4750\n",
      "Epoch 39/50\n",
      "50000/50000 [==============================] - 18s 352us/step - loss: 0.0567 - acc: 0.9898 - val_loss: 2.6379 - val_acc: 0.4837\n",
      "Epoch 40/50\n",
      "50000/50000 [==============================] - 17s 343us/step - loss: 0.0540 - acc: 0.9908 - val_loss: 2.5195 - val_acc: 0.4930\n",
      "Epoch 41/50\n",
      "50000/50000 [==============================] - 17s 337us/step - loss: 0.0472 - acc: 0.9922 - val_loss: 2.6607 - val_acc: 0.4802\n",
      "Epoch 42/50\n",
      "50000/50000 [==============================] - 18s 351us/step - loss: 0.0417 - acc: 0.9934 - val_loss: 2.5976 - val_acc: 0.4877\n",
      "Epoch 43/50\n",
      "50000/50000 [==============================] - 18s 353us/step - loss: 0.0347 - acc: 0.9955 - val_loss: 2.5646 - val_acc: 0.4953\n",
      "Epoch 44/50\n",
      "50000/50000 [==============================] - 18s 350us/step - loss: 0.0289 - acc: 0.9973 - val_loss: 2.6244 - val_acc: 0.5009\n",
      "Epoch 45/50\n",
      "50000/50000 [==============================] - 17s 349us/step - loss: 0.0278 - acc: 0.9970 - val_loss: 2.6773 - val_acc: 0.4804\n",
      "Epoch 46/50\n",
      "50000/50000 [==============================] - 17s 345us/step - loss: 0.0260 - acc: 0.9968 - val_loss: 2.7402 - val_acc: 0.4921\n",
      "Epoch 47/50\n",
      "50000/50000 [==============================] - 17s 340us/step - loss: 0.0309 - acc: 0.9955 - val_loss: 2.7316 - val_acc: 0.4935\n",
      "Epoch 48/50\n",
      "50000/50000 [==============================] - 17s 338us/step - loss: 0.0274 - acc: 0.9967 - val_loss: 2.7561 - val_acc: 0.4908\n",
      "Epoch 49/50\n",
      "50000/50000 [==============================] - 17s 336us/step - loss: 0.0230 - acc: 0.9974 - val_loss: 2.7173 - val_acc: 0.4996\n",
      "Epoch 50/50\n",
      "50000/50000 [==============================] - 17s 342us/step - loss: 0.0194 - acc: 0.9982 - val_loss: 2.7234 - val_acc: 0.4973\n"
     ]
    },
    {
     "ename": "NameError",
     "evalue": "name 'exp_name_tag' is not defined",
     "output_type": "error",
     "traceback": [
      "\u001b[1;31m---------------------------------------------------------------------------\u001b[0m",
      "\u001b[1;31mNameError\u001b[0m                                 Traceback (most recent call last)",
      "\u001b[1;32m<ipython-input-7-68cdfcd3c054>\u001b[0m in \u001b[0;36m<module>\u001b[1;34m()\u001b[0m\n\u001b[0;32m     22\u001b[0m                          \u001b[1;34m'valid-loss'\u001b[0m\u001b[1;33m:\u001b[0m \u001b[0mvalid_loss\u001b[0m\u001b[1;33m,\u001b[0m\u001b[1;33m\u001b[0m\u001b[0m\n\u001b[0;32m     23\u001b[0m                          \u001b[1;34m'train-acc'\u001b[0m\u001b[1;33m:\u001b[0m \u001b[0mtrain_acc\u001b[0m\u001b[1;33m,\u001b[0m\u001b[1;33m\u001b[0m\u001b[0m\n\u001b[1;32m---> 24\u001b[1;33m                          'valid-acc': valid_acc}\n\u001b[0m",
      "\u001b[1;31mNameError\u001b[0m: name 'exp_name_tag' is not defined"
     ]
    }
   ],
   "source": [
    "results = {}\n",
    "\"\"\"Code Here\n",
    "撰寫你的訓練流程並將結果用 dictionary 紀錄\n",
    "\"\"\"\n",
    "model = build_mlp(input_shape=x_train.shape[1:])\n",
    "model.summary()\n",
    "optimizer = keras.optimizers.SGD(lr=LEARNING_RATE, nesterov=True, momentum=MOMENTUM)\n",
    "model.compile(loss=\"categorical_crossentropy\", metrics=[\"accuracy\"], optimizer=optimizer)\n",
    "\n",
    "model.fit(x_train, y_train, \n",
    "          epochs=EPOCHS, \n",
    "          batch_size=BATCH_SIZE, \n",
    "          validation_data=(x_test, y_test), \n",
    "          shuffle=True)\n",
    "\n",
    "# Collect results\n",
    "train_loss = model.history.history[\"loss\"]\n",
    "valid_loss = model.history.history[\"val_loss\"]\n",
    "train_acc = model.history.history[\"acc\"]\n",
    "valid_acc = model.history.history[\"val_acc\"]\n",
    "results[exp_name_tag] = {'train-loss': train_loss,\n",
    "                         'valid-loss': valid_loss,\n",
    "                         'train-acc': train_acc,\n",
    "                         'valid-acc': valid_acc}"
   ]
  },
  {
   "cell_type": "code",
   "execution_count": 8,
   "metadata": {},
   "outputs": [
    {
     "data": {
      "image/png": "[encoded data removed]",
      "text/plain": [
       "<Figure size 432x288 with 1 Axes>"
      ]
     },
     "metadata": {},
     "output_type": "display_data"
    },
    {
     "data": {
      "image/png": "[encoded data removed]",
      "text/plain": [
       "<Figure size 432x288 with 1 Axes>"
      ]
     },
     "metadata": {},
     "output_type": "display_data"
    }
   ],
   "source": [
    "import matplotlib.pyplot as plt\n",
    "%matplotlib inline\n",
    "\"\"\"Code Here\n",
    "將結果繪出\n",
    "\"\"\"\n",
    "plt.plot(range(len(train_loss)), train_loss, label=\"train loss\")\n",
    "plt.plot(range(len(valid_loss)), valid_loss, label=\"valid loss\")\n",
    "plt.legend()\n",
    "plt.title(\"Loss\")\n",
    "plt.show()\n",
    "\n",
    "plt.plot(range(len(train_acc)), train_acc, label=\"train accuracy\")\n",
    "plt.plot(range(len(valid_acc)), valid_acc, label=\"valid accuracy\")\n",
    "plt.legend()\n",
    "plt.title(\"Accuracy\")\n",
    "plt.show()"
   ]
  },
  {
   "cell_type": "code",
   "execution_count": null,
   "metadata": {},
   "outputs": [],
   "source": []
  }
 ],
 "metadata": {
  "kernelspec": {
   "display_name": "Python 3",
   "language": "python",
   "name": "python3"
  },
  "language_info": {
   "codemirror_mode": {
    "name": "ipython",
    "version": 3
   },
   "file_extension": ".py",
   "mimetype": "text/x-python",
   "name": "python",
   "nbconvert_exporter": "python",
   "pygments_lexer": "ipython3",
   "version": "3.6.5"
  }
 },
 "nbformat": 4,
 "nbformat_minor": 2
}
