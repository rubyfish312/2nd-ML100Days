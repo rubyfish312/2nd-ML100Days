{
 "cells": [
  {
   "cell_type": "markdown",
   "metadata": {},
   "source": [
    "## Work\n",
    "1. 請嘗試將 preproc_x 替換成以每筆資料的 min/max 進行標準化至 -1 ~ 1 間，再進行訓練\n",
    "2. 請嘗試將 mlp 疊更深 (e.g 5~10 層)，進行訓練後觀察 learning curve 的走勢\n",
    "3. (optional) 請改用 GPU 進行訓練 (如果你有 GPU 的話)，比較使用 CPU 與 GPU 的訓練速度"
   ]
  },
  {
   "cell_type": "code",
   "execution_count": 1,
   "metadata": {},
   "outputs": [
    {
     "name": "stderr",
     "output_type": "stream",
     "text": [
      "'nvidia-smi' 不是內部或外部命令、可執行的程式或批次檔。\n"
     ]
    }
   ],
   "source": [
    "## \n",
    "\"\"\"\n",
    "Your code here (optional)\n",
    "確認硬體資源\n",
    "\"\"\"\n",
    "## 確認硬體資源 (如果你是在 Linux, 若是在 Windows, 請參考 https://blog.csdn.net/idwtwt/article/details/78017565)\n",
    "!nvidia-smi"
   ]
  },
  {
   "cell_type": "code",
   "execution_count": 2,
   "metadata": {},
   "outputs": [
    {
     "name": "stderr",
     "output_type": "stream",
     "text": [
      "Using TensorFlow backend.\n"
     ]
    }
   ],
   "source": [
    "import os\n",
    "import keras\n",
    "\n",
    "# 請嘗試設定 GPU：os.environ\n",
    "# 本範例不需使用 GPU, 將 GPU 設定為 \"無\"\n",
    "os.environ[\"CUDA_VISIBLE_DEVICES\"] = \"\""
   ]
  },
  {
   "cell_type": "code",
   "execution_count": 3,
   "metadata": {},
   "outputs": [],
   "source": [
    "train, test = keras.datasets.cifar10.load_data()"
   ]
  },
  {
   "cell_type": "code",
   "execution_count": 4,
   "metadata": {},
   "outputs": [],
   "source": [
    "## 資料前處理\n",
    "\"\"\"\n",
    "Your code here\n",
    "\"\"\"\n",
    "from sklearn.preprocessing import MinMaxScaler\n",
    "import numpy as np\n",
    "\n",
    "#data_scaler_minmax = preprocessing.MinMaxScaler(feature_range=(-1, 1))\n",
    "#data_scaled_minmax = data_scaler_minmax.fit_transform(x)\n",
    "\n",
    "def preproc_x(x, flatten=True):\n",
    "    x=(x-x.mean())/(x.max()-x.min())\n",
    "    if flatten:\n",
    "        x = x.reshape((len(x), -1))\n",
    "    return x \n",
    "\n",
    "def preproc_y(y, num_classes=10):\n",
    "    if y.shape[-1] == 1:\n",
    "        y = keras.utils.to_categorical(y, num_classes)\n",
    "    return y  "
   ]
  },
  {
   "cell_type": "code",
   "execution_count": 5,
   "metadata": {},
   "outputs": [],
   "source": [
    "x_train, y_train = train\n",
    "x_test, y_test = test\n",
    "\n",
    "# Preproc the inputs\n",
    "x_train = preproc_x(x_train)\n",
    "x_test = preproc_x(x_test)\n",
    "\n",
    "# Preprc the outputs\n",
    "y_train = preproc_y(y_train)\n",
    "y_test = preproc_y(y_test)\n"
   ]
  },
  {
   "cell_type": "code",
   "execution_count": 6,
   "metadata": {},
   "outputs": [
    {
     "name": "stderr",
     "output_type": "stream",
     "text": [
      "WARNING: Logging before flag parsing goes to stderr.\n",
      "W0720 17:32:47.089546  6224 deprecation_wrapper.py:119] From C:\\Users\\User\\AppData\\Roaming\\Python\\Python36\\site-packages\\keras\\backend\\tensorflow_backend.py:71: The name tf.get_default_graph is deprecated. Please use tf.compat.v1.get_default_graph instead.\n",
      "\n",
      "W0720 17:32:47.302150  6224 deprecation_wrapper.py:119] From C:\\Users\\User\\AppData\\Roaming\\Python\\Python36\\site-packages\\keras\\backend\\tensorflow_backend.py:514: The name tf.placeholder is deprecated. Please use tf.compat.v1.placeholder instead.\n",
      "\n",
      "W0720 17:32:47.350022  6224 deprecation_wrapper.py:119] From C:\\Users\\User\\AppData\\Roaming\\Python\\Python36\\site-packages\\keras\\backend\\tensorflow_backend.py:4076: The name tf.random_uniform is deprecated. Please use tf.random.uniform instead.\n",
      "\n"
     ]
    },
    {
     "name": "stdout",
     "output_type": "stream",
     "text": [
      "_________________________________________________________________\n",
      "Layer (type)                 Output Shape              Param #   \n",
      "=================================================================\n",
      "input_1 (InputLayer)         (None, 3072)              0         \n",
      "_________________________________________________________________\n",
      "hidden_layer1 (Dense)        (None, 2048)              6293504   \n",
      "_________________________________________________________________\n",
      "hidden_layer2 (Dense)        (None, 1024)              2098176   \n",
      "_________________________________________________________________\n",
      "hidden_layer3 (Dense)        (None, 512)               524800    \n",
      "_________________________________________________________________\n",
      "hidden_layer4 (Dense)        (None, 256)               131328    \n",
      "_________________________________________________________________\n",
      "hidden_layer5 (Dense)        (None, 128)               32896     \n",
      "_________________________________________________________________\n",
      "output (Dense)               (None, 10)                1290      \n",
      "=================================================================\n",
      "Total params: 9,081,994\n",
      "Trainable params: 9,081,994\n",
      "Non-trainable params: 0\n",
      "_________________________________________________________________\n"
     ]
    }
   ],
   "source": [
    "\"\"\"Code Here\n",
    "建立你的神經網路\n",
    "\"\"\"\n",
    "def build_mlp(input_shape, output_units=10, num_neurons=[2048, 1024, 512, 256, 128]):\n",
    "    input_layer = keras.layers.Input(input_shape)\n",
    "    \n",
    "    for i, n_units in enumerate(num_neurons):\n",
    "        if i == 0:\n",
    "            x = keras.layers.Dense(units=n_units, activation=\"relu\", name=\"hidden_layer\"+str(i+1))(input_layer)\n",
    "        else:\n",
    "            x = keras.layers.Dense(units=n_units, activation=\"relu\", name=\"hidden_layer\"+str(i+1))(x)\n",
    "    \n",
    "    out = keras.layers.Dense(units=output_units, activation=\"softmax\", name=\"output\")(x)\n",
    "    \n",
    "    model = keras.models.Model(inputs=[input_layer], outputs=[out])\n",
    "    return model\n",
    "model = build_mlp(input_shape=x_train.shape[1:])\n",
    "model.summary()\n"
   ]
  },
  {
   "cell_type": "code",
   "execution_count": 10,
   "metadata": {},
   "outputs": [],
   "source": [
    "## 超參數設定\n",
    "LEARNING_RATE = 0.001\n",
    "EPOCHS = 100\n",
    "BATCH_SIZE = 256"
   ]
  },
  {
   "cell_type": "code",
   "execution_count": 11,
   "metadata": {},
   "outputs": [],
   "source": [
    "optimizer = keras.optimizers.Adam(lr=LEARNING_RATE)\n",
    "model.compile(loss=\"categorical_crossentropy\", metrics=[\"accuracy\"], optimizer=optimizer)"
   ]
  },
  {
   "cell_type": "code",
   "execution_count": 12,
   "metadata": {},
   "outputs": [
    {
     "name": "stdout",
     "output_type": "stream",
     "text": [
      "Train on 50000 samples, validate on 10000 samples\n",
      "Epoch 1/100\n",
      "50000/50000 [==============================] - 55s 1ms/step - loss: 0.1207 - acc: 0.9615 - val_loss: 3.1157 - val_acc: 0.5549\n",
      "Epoch 2/100\n",
      "50000/50000 [==============================] - 54s 1ms/step - loss: 0.1100 - acc: 0.9636 - val_loss: 3.2219 - val_acc: 0.5482\n",
      "Epoch 3/100\n",
      "50000/50000 [==============================] - 54s 1ms/step - loss: 0.0980 - acc: 0.9677 - val_loss: 3.1845 - val_acc: 0.5535\n",
      "Epoch 4/100\n",
      "50000/50000 [==============================] - 55s 1ms/step - loss: 0.1052 - acc: 0.9658 - val_loss: 3.1615 - val_acc: 0.5545\n",
      "Epoch 5/100\n",
      "50000/50000 [==============================] - 82s 2ms/step - loss: 0.0967 - acc: 0.9687 - val_loss: 3.2691 - val_acc: 0.5501\n",
      "Epoch 6/100\n",
      "50000/50000 [==============================] - 101s 2ms/step - loss: 0.1003 - acc: 0.9682 - val_loss: 3.1362 - val_acc: 0.5548\n",
      "Epoch 7/100\n",
      "50000/50000 [==============================] - 84s 2ms/step - loss: 0.0892 - acc: 0.9714 - val_loss: 3.1618 - val_acc: 0.5579\n",
      "Epoch 8/100\n",
      "50000/50000 [==============================] - 88s 2ms/step - loss: 0.0800 - acc: 0.9748 - val_loss: 3.2799 - val_acc: 0.5531\n",
      "Epoch 9/100\n",
      "50000/50000 [==============================] - 105s 2ms/step - loss: 0.0812 - acc: 0.9733 - val_loss: 3.1256 - val_acc: 0.5523\n",
      "Epoch 10/100\n",
      "50000/50000 [==============================] - 104s 2ms/step - loss: 0.0899 - acc: 0.9716 - val_loss: 3.1807 - val_acc: 0.5489\n",
      "Epoch 11/100\n",
      "50000/50000 [==============================] - 97s 2ms/step - loss: 0.0828 - acc: 0.9724 - val_loss: 3.2617 - val_acc: 0.5517\n",
      "Epoch 12/100\n",
      "50000/50000 [==============================] - 91s 2ms/step - loss: 0.0806 - acc: 0.9742 - val_loss: 3.2783 - val_acc: 0.5522\n",
      "Epoch 13/100\n",
      "50000/50000 [==============================] - 87s 2ms/step - loss: 0.0812 - acc: 0.9739 - val_loss: 3.3519 - val_acc: 0.5505\n",
      "Epoch 14/100\n",
      "50000/50000 [==============================] - 79s 2ms/step - loss: 0.0741 - acc: 0.9769 - val_loss: 3.1711 - val_acc: 0.5528\n",
      "Epoch 15/100\n",
      "50000/50000 [==============================] - 79s 2ms/step - loss: 0.0814 - acc: 0.9747 - val_loss: 3.2782 - val_acc: 0.5387\n",
      "Epoch 16/100\n",
      "50000/50000 [==============================] - 83s 2ms/step - loss: 0.0715 - acc: 0.9779 - val_loss: 3.3208 - val_acc: 0.5527\n",
      "Epoch 17/100\n",
      "50000/50000 [==============================] - 82s 2ms/step - loss: 0.0661 - acc: 0.9787 - val_loss: 3.2802 - val_acc: 0.5471\n",
      "Epoch 18/100\n",
      "50000/50000 [==============================] - 76s 2ms/step - loss: 0.0754 - acc: 0.9765 - val_loss: 3.2712 - val_acc: 0.5462\n",
      "Epoch 19/100\n",
      "50000/50000 [==============================] - 80s 2ms/step - loss: 0.0721 - acc: 0.9772 - val_loss: 3.3407 - val_acc: 0.5507\n",
      "Epoch 20/100\n",
      "50000/50000 [==============================] - 84s 2ms/step - loss: 0.0777 - acc: 0.9760 - val_loss: 3.1659 - val_acc: 0.5445\n",
      "Epoch 21/100\n",
      "50000/50000 [==============================] - 89s 2ms/step - loss: 0.0772 - acc: 0.9751 - val_loss: 3.3472 - val_acc: 0.5472\n",
      "Epoch 22/100\n",
      "50000/50000 [==============================] - 89s 2ms/step - loss: 0.0598 - acc: 0.9814 - val_loss: 3.3323 - val_acc: 0.5564\n",
      "Epoch 23/100\n",
      "50000/50000 [==============================] - 93s 2ms/step - loss: 0.0557 - acc: 0.9827 - val_loss: 3.4242 - val_acc: 0.5523\n",
      "Epoch 24/100\n",
      "50000/50000 [==============================] - 91s 2ms/step - loss: 0.0760 - acc: 0.9764 - val_loss: 3.2851 - val_acc: 0.5485\n",
      "Epoch 25/100\n",
      "50000/50000 [==============================] - 70s 1ms/step - loss: 0.0583 - acc: 0.9818 - val_loss: 3.2463 - val_acc: 0.5575\n",
      "Epoch 26/100\n",
      "50000/50000 [==============================] - 82s 2ms/step - loss: 0.0651 - acc: 0.9803 - val_loss: 3.4259 - val_acc: 0.5466\n",
      "Epoch 27/100\n",
      "50000/50000 [==============================] - 84s 2ms/step - loss: 0.0662 - acc: 0.9793 - val_loss: 3.3493 - val_acc: 0.5558\n",
      "Epoch 28/100\n",
      "50000/50000 [==============================] - 83s 2ms/step - loss: 0.0607 - acc: 0.9815 - val_loss: 3.4802 - val_acc: 0.5534\n",
      "Epoch 29/100\n",
      "50000/50000 [==============================] - 82s 2ms/step - loss: 0.0620 - acc: 0.9816 - val_loss: 3.3543 - val_acc: 0.5552\n",
      "Epoch 30/100\n",
      "50000/50000 [==============================] - 73s 1ms/step - loss: 0.0727 - acc: 0.9777 - val_loss: 3.1255 - val_acc: 0.5545\n",
      "Epoch 31/100\n",
      "50000/50000 [==============================] - 66s 1ms/step - loss: 0.0509 - acc: 0.9845 - val_loss: 3.3905 - val_acc: 0.5485\n",
      "Epoch 32/100\n",
      "50000/50000 [==============================] - 73s 1ms/step - loss: 0.0687 - acc: 0.9789 - val_loss: 3.4064 - val_acc: 0.5503\n",
      "Epoch 33/100\n",
      "50000/50000 [==============================] - 64s 1ms/step - loss: 0.0630 - acc: 0.9808 - val_loss: 3.4255 - val_acc: 0.5525\n",
      "Epoch 34/100\n",
      "50000/50000 [==============================] - 70s 1ms/step - loss: 0.0632 - acc: 0.9807 - val_loss: 3.3707 - val_acc: 0.5536\n",
      "Epoch 35/100\n",
      "50000/50000 [==============================] - 87s 2ms/step - loss: 0.0497 - acc: 0.9847 - val_loss: 3.3040 - val_acc: 0.5514\n",
      "Epoch 36/100\n",
      "50000/50000 [==============================] - 83s 2ms/step - loss: 0.0691 - acc: 0.9801 - val_loss: 3.3817 - val_acc: 0.5565\n",
      "Epoch 37/100\n",
      "50000/50000 [==============================] - 83s 2ms/step - loss: 0.0397 - acc: 0.9877 - val_loss: 3.5034 - val_acc: 0.5472\n",
      "Epoch 38/100\n",
      "50000/50000 [==============================] - 92s 2ms/step - loss: 0.0705 - acc: 0.9784 - val_loss: 3.2535 - val_acc: 0.5505\n",
      "Epoch 39/100\n",
      "50000/50000 [==============================] - 103s 2ms/step - loss: 0.0548 - acc: 0.9832 - val_loss: 3.3553 - val_acc: 0.5481\n",
      "Epoch 40/100\n",
      "50000/50000 [==============================] - 98s 2ms/step - loss: 0.0448 - acc: 0.9859 - val_loss: 3.4991 - val_acc: 0.5517\n",
      "Epoch 41/100\n",
      "50000/50000 [==============================] - 97s 2ms/step - loss: 0.0520 - acc: 0.9839 - val_loss: 3.3283 - val_acc: 0.5521\n",
      "Epoch 42/100\n",
      "50000/50000 [==============================] - 124s 2ms/step - loss: 0.0626 - acc: 0.9807 - val_loss: 3.3440 - val_acc: 0.5512\n",
      "Epoch 43/100\n",
      "50000/50000 [==============================] - 124s 2ms/step - loss: 0.0548 - acc: 0.9844 - val_loss: 3.3188 - val_acc: 0.5507\n",
      "Epoch 44/100\n",
      "50000/50000 [==============================] - 85s 2ms/step - loss: 0.0494 - acc: 0.9845 - val_loss: 3.2696 - val_acc: 0.5555\n",
      "Epoch 45/100\n",
      "50000/50000 [==============================] - 71s 1ms/step - loss: 0.0407 - acc: 0.9875 - val_loss: 3.3857 - val_acc: 0.5578\n",
      "Epoch 46/100\n",
      "50000/50000 [==============================] - 69s 1ms/step - loss: 0.0552 - acc: 0.9837 - val_loss: 3.3685 - val_acc: 0.5536\n",
      "Epoch 47/100\n",
      "50000/50000 [==============================] - 86s 2ms/step - loss: 0.0494 - acc: 0.9855 - val_loss: 3.4374 - val_acc: 0.5526\n",
      "Epoch 48/100\n",
      "50000/50000 [==============================] - 83s 2ms/step - loss: 0.0496 - acc: 0.9855 - val_loss: 3.3727 - val_acc: 0.5518\n",
      "Epoch 49/100\n",
      "50000/50000 [==============================] - 75s 1ms/step - loss: 0.0560 - acc: 0.9834 - val_loss: 3.2769 - val_acc: 0.5490\n",
      "Epoch 50/100\n",
      "50000/50000 [==============================] - 84s 2ms/step - loss: 0.0475 - acc: 0.9858 - val_loss: 3.4141 - val_acc: 0.5524\n",
      "Epoch 51/100\n",
      "50000/50000 [==============================] - 94s 2ms/step - loss: 0.0408 - acc: 0.9878 - val_loss: 3.4596 - val_acc: 0.5606\n",
      "Epoch 52/100\n",
      "50000/50000 [==============================] - 95s 2ms/step - loss: 0.0417 - acc: 0.9874 - val_loss: 3.4711 - val_acc: 0.5610\n",
      "Epoch 53/100\n",
      "50000/50000 [==============================] - 77s 2ms/step - loss: 0.0569 - acc: 0.9823 - val_loss: 3.2613 - val_acc: 0.5515\n",
      "Epoch 54/100\n",
      "50000/50000 [==============================] - 64s 1ms/step - loss: 0.0448 - acc: 0.9870 - val_loss: 3.2885 - val_acc: 0.5503\n",
      "Epoch 55/100\n",
      "50000/50000 [==============================] - 61s 1ms/step - loss: 0.0558 - acc: 0.9834 - val_loss: 3.3605 - val_acc: 0.5513\n",
      "Epoch 56/100\n",
      "50000/50000 [==============================] - 58s 1ms/step - loss: 0.0574 - acc: 0.9834 - val_loss: 3.2765 - val_acc: 0.5457\n",
      "Epoch 57/100\n",
      "50000/50000 [==============================] - 59s 1ms/step - loss: 0.0604 - acc: 0.9818 - val_loss: 3.2068 - val_acc: 0.5505\n",
      "Epoch 58/100\n",
      "50000/50000 [==============================] - 56s 1ms/step - loss: 0.0454 - acc: 0.9867 - val_loss: 3.4223 - val_acc: 0.5539\n",
      "Epoch 59/100\n",
      "50000/50000 [==============================] - 58s 1ms/step - loss: 0.0403 - acc: 0.9879 - val_loss: 3.3785 - val_acc: 0.5560\n",
      "Epoch 60/100\n",
      "50000/50000 [==============================] - 57s 1ms/step - loss: 0.0428 - acc: 0.9876 - val_loss: 3.3090 - val_acc: 0.5548\n",
      "Epoch 61/100\n",
      "50000/50000 [==============================] - 58s 1ms/step - loss: 0.0568 - acc: 0.9840 - val_loss: 3.2697 - val_acc: 0.5498\n",
      "Epoch 62/100\n",
      "50000/50000 [==============================] - 56s 1ms/step - loss: 0.0352 - acc: 0.9894 - val_loss: 3.4735 - val_acc: 0.5576\n",
      "Epoch 63/100\n",
      "50000/50000 [==============================] - 57s 1ms/step - loss: 0.0446 - acc: 0.9867 - val_loss: 3.3335 - val_acc: 0.5564\n",
      "Epoch 64/100\n",
      "50000/50000 [==============================] - 61s 1ms/step - loss: 0.0302 - acc: 0.9908 - val_loss: 3.5480 - val_acc: 0.5576\n",
      "Epoch 65/100\n",
      "50000/50000 [==============================] - 66s 1ms/step - loss: 0.0406 - acc: 0.9890 - val_loss: 3.4333 - val_acc: 0.5547\n",
      "Epoch 66/100\n",
      "50000/50000 [==============================] - 71s 1ms/step - loss: 0.0494 - acc: 0.9862 - val_loss: 3.2348 - val_acc: 0.5443\n",
      "Epoch 67/100\n",
      "50000/50000 [==============================] - 66s 1ms/step - loss: 0.0496 - acc: 0.9850 - val_loss: 3.4593 - val_acc: 0.5544\n",
      "Epoch 68/100\n",
      "50000/50000 [==============================] - 81s 2ms/step - loss: 0.0422 - acc: 0.9874 - val_loss: 3.4523 - val_acc: 0.5518\n",
      "Epoch 69/100\n",
      "50000/50000 [==============================] - 73s 1ms/step - loss: 0.0445 - acc: 0.9871 - val_loss: 3.3246 - val_acc: 0.5527\n",
      "Epoch 70/100\n",
      "50000/50000 [==============================] - 66s 1ms/step - loss: 0.0458 - acc: 0.9866 - val_loss: 3.3353 - val_acc: 0.5558\n",
      "Epoch 71/100\n",
      "50000/50000 [==============================] - 60s 1ms/step - loss: 0.0336 - acc: 0.9901 - val_loss: 3.5023 - val_acc: 0.5545\n",
      "Epoch 72/100\n",
      "50000/50000 [==============================] - 59s 1ms/step - loss: 0.0407 - acc: 0.9882 - val_loss: 3.4246 - val_acc: 0.5472\n",
      "Epoch 73/100\n",
      "50000/50000 [==============================] - 57s 1ms/step - loss: 0.0345 - acc: 0.9897 - val_loss: 3.4348 - val_acc: 0.5570\n",
      "Epoch 74/100\n",
      "50000/50000 [==============================] - 68s 1ms/step - loss: 0.0425 - acc: 0.9871 - val_loss: 3.4034 - val_acc: 0.5475\n",
      "Epoch 75/100\n",
      "50000/50000 [==============================] - 74s 1ms/step - loss: 0.0437 - acc: 0.9871 - val_loss: 3.4249 - val_acc: 0.5491\n",
      "Epoch 76/100\n",
      "50000/50000 [==============================] - 83s 2ms/step - loss: 0.0413 - acc: 0.9889 - val_loss: 3.3825 - val_acc: 0.5527\n",
      "Epoch 77/100\n",
      "50000/50000 [==============================] - 70s 1ms/step - loss: 0.0444 - acc: 0.9874 - val_loss: 3.3307 - val_acc: 0.5486\n",
      "Epoch 78/100\n",
      "50000/50000 [==============================] - 73s 1ms/step - loss: 0.0452 - acc: 0.9871 - val_loss: 3.2852 - val_acc: 0.5537\n",
      "Epoch 79/100\n",
      "50000/50000 [==============================] - 73s 1ms/step - loss: 0.0367 - acc: 0.9895 - val_loss: 3.4057 - val_acc: 0.5545\n",
      "Epoch 80/100\n",
      "50000/50000 [==============================] - 69s 1ms/step - loss: 0.0520 - acc: 0.9855 - val_loss: 3.4322 - val_acc: 0.5470\n",
      "Epoch 81/100\n",
      "50000/50000 [==============================] - 63s 1ms/step - loss: 0.0412 - acc: 0.9884 - val_loss: 3.2971 - val_acc: 0.5500\n",
      "Epoch 82/100\n",
      "50000/50000 [==============================] - 62s 1ms/step - loss: 0.0357 - acc: 0.9904 - val_loss: 3.4267 - val_acc: 0.5580\n",
      "Epoch 83/100\n",
      "50000/50000 [==============================] - 61s 1ms/step - loss: 0.0236 - acc: 0.9932 - val_loss: 3.5845 - val_acc: 0.5569\n",
      "Epoch 84/100\n",
      "50000/50000 [==============================] - 60s 1ms/step - loss: 0.0341 - acc: 0.9900 - val_loss: 3.4767 - val_acc: 0.5562\n",
      "Epoch 85/100\n",
      "50000/50000 [==============================] - 59s 1ms/step - loss: 0.0387 - acc: 0.9888 - val_loss: 3.3528 - val_acc: 0.5498\n",
      "Epoch 86/100\n",
      "50000/50000 [==============================] - 75s 1ms/step - loss: 0.0494 - acc: 0.9855 - val_loss: 3.3507 - val_acc: 0.5513\n",
      "Epoch 87/100\n",
      "50000/50000 [==============================] - 63s 1ms/step - loss: 0.0314 - acc: 0.9909 - val_loss: 3.4524 - val_acc: 0.5545\n",
      "Epoch 88/100\n",
      "50000/50000 [==============================] - 78s 2ms/step - loss: 0.0457 - acc: 0.9871 - val_loss: 3.2861 - val_acc: 0.5515\n",
      "Epoch 89/100\n",
      "50000/50000 [==============================] - 83s 2ms/step - loss: 0.0335 - acc: 0.9908 - val_loss: 3.4685 - val_acc: 0.5555\n",
      "Epoch 90/100\n",
      "50000/50000 [==============================] - 78s 2ms/step - loss: 0.0463 - acc: 0.9864 - val_loss: 3.2819 - val_acc: 0.5543\n",
      "Epoch 91/100\n",
      "50000/50000 [==============================] - 66s 1ms/step - loss: 0.0267 - acc: 0.9921 - val_loss: 3.4946 - val_acc: 0.5561\n",
      "Epoch 92/100\n",
      "50000/50000 [==============================] - 73s 1ms/step - loss: 0.0393 - acc: 0.9890 - val_loss: 3.3595 - val_acc: 0.5498\n",
      "Epoch 93/100\n",
      "50000/50000 [==============================] - 69s 1ms/step - loss: 0.0385 - acc: 0.9890 - val_loss: 3.2741 - val_acc: 0.5534\n",
      "Epoch 94/100\n",
      "50000/50000 [==============================] - 65s 1ms/step - loss: 0.0327 - acc: 0.9911 - val_loss: 3.4488 - val_acc: 0.5558\n",
      "Epoch 95/100\n",
      "50000/50000 [==============================] - 66s 1ms/step - loss: 0.0391 - acc: 0.9884 - val_loss: 3.4318 - val_acc: 0.5506\n",
      "Epoch 96/100\n",
      "50000/50000 [==============================] - 69s 1ms/step - loss: 0.0381 - acc: 0.9888 - val_loss: 3.2793 - val_acc: 0.5573\n",
      "Epoch 97/100\n",
      "50000/50000 [==============================] - 65s 1ms/step - loss: 0.0282 - acc: 0.9926 - val_loss: 3.4644 - val_acc: 0.5532\n",
      "Epoch 98/100\n",
      "50000/50000 [==============================] - 60s 1ms/step - loss: 0.0299 - acc: 0.9918 - val_loss: 3.4412 - val_acc: 0.5520\n",
      "Epoch 99/100\n",
      "50000/50000 [==============================] - 71s 1ms/step - loss: 0.0457 - acc: 0.9870 - val_loss: 3.3264 - val_acc: 0.5534\n",
      "Epoch 100/100\n",
      "50000/50000 [==============================] - 76s 2ms/step - loss: 0.0368 - acc: 0.9898 - val_loss: 3.4204 - val_acc: 0.5576\n"
     ]
    },
    {
     "data": {
      "text/plain": [
       "<keras.callbacks.History at 0x2430306b630>"
      ]
     },
     "execution_count": 12,
     "metadata": {},
     "output_type": "execute_result"
    }
   ],
   "source": [
    "model.fit(x_train, y_train, \n",
    "          epochs=EPOCHS, \n",
    "          batch_size=BATCH_SIZE, \n",
    "          validation_data=(x_test, y_test), \n",
    "          shuffle=True)"
   ]
  },
  {
   "cell_type": "code",
   "execution_count": 14,
   "metadata": {},
   "outputs": [
    {
     "data": {
      "image/png": "[encoded data removed]",
      "text/plain": [
       "<Figure size 432x288 with 1 Axes>"
      ]
     },
     "metadata": {},
     "output_type": "display_data"
    },
    {
     "data": {
      "image/png": "[encoded data removed]",
      "text/plain": [
       "<Figure size 432x288 with 1 Axes>"
      ]
     },
     "metadata": {},
     "output_type": "display_data"
    }
   ],
   "source": [
    "import matplotlib.pyplot as plt\n",
    "\n",
    "\n",
    "train_loss = model.history.history[\"loss\"]\n",
    "valid_loss = model.history.history[\"val_loss\"]\n",
    "\n",
    "train_acc = model.history.history[\"acc\"]\n",
    "valid_acc = model.history.history[\"val_acc\"]\n",
    "\n",
    "plt.plot(range(len(train_loss)), train_loss, label=\"train loss\")\n",
    "plt.plot(range(len(valid_loss)), valid_loss, label=\"valid loss\")\n",
    "plt.legend()\n",
    "plt.title(\"Loss\")\n",
    "plt.show()\n",
    "\n",
    "plt.plot(range(len(train_acc)), train_acc, label=\"train accuracy\")\n",
    "plt.plot(range(len(valid_acc)), valid_acc, label=\"valid accuracy\")\n",
    "plt.legend()\n",
    "plt.title(\"Accuracy\")\n",
    "plt.show()"
   ]
  },
  {
   "cell_type": "code",
   "execution_count": null,
   "metadata": {},
   "outputs": [],
   "source": []
  }
 ],
 "metadata": {
  "kernelspec": {
   "display_name": "Python 3",
   "language": "python",
   "name": "python3"
  },
  "language_info": {
   "codemirror_mode": {
    "name": "ipython",
    "version": 3
   },
   "file_extension": ".py",
   "mimetype": "text/x-python",
   "name": "python",
   "nbconvert_exporter": "python",
   "pygments_lexer": "ipython3",
   "version": "3.6.5"
  }
 },
 "nbformat": 4,
 "nbformat_minor": 2
}
