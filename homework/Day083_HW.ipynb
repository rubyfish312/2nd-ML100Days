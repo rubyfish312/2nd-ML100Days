{
 "cells": [
  {
   "cell_type": "markdown",
   "metadata": {},
   "source": [
    "## Work\n",
    "1. 試比較有 BN 在 Batch_size = 2, 16, 32, 128, 256 下的差異\n",
    "2. 請嘗試將 BN 放在 Activation 之前，並比較訓練結果\n",
    "3. 請於 BN 放在 Input Layer 後，並比較結果"
   ]
  },
  {
   "cell_type": "code",
   "execution_count": 1,
   "metadata": {},
   "outputs": [
    {
     "name": "stderr",
     "output_type": "stream",
     "text": [
      "Using TensorFlow backend.\n"
     ]
    }
   ],
   "source": [
    "import os\n",
    "import keras\n",
    "import itertools\n",
    "# Disable GPU\n",
    "os.environ[\"CUDA_VISIBLE_DEVICES\"] = \"\""
   ]
  },
  {
   "cell_type": "code",
   "execution_count": 2,
   "metadata": {},
   "outputs": [],
   "source": [
    "train, test = keras.datasets.cifar10.load_data()"
   ]
  },
  {
   "cell_type": "code",
   "execution_count": 3,
   "metadata": {},
   "outputs": [],
   "source": [
    "## 資料前處理\n",
    "def preproc_x(x, flatten=True):\n",
    "    x = x / 255.\n",
    "    if flatten:\n",
    "        x = x.reshape((len(x), -1))\n",
    "    return x\n",
    "\n",
    "def preproc_y(y, num_classes=10):\n",
    "    if y.shape[-1] == 1:\n",
    "        y = keras.utils.to_categorical(y, num_classes)\n",
    "    return y    "
   ]
  },
  {
   "cell_type": "code",
   "execution_count": 4,
   "metadata": {},
   "outputs": [],
   "source": [
    "x_train, y_train = train\n",
    "x_test, y_test = test\n",
    "\n",
    "# Preproc the inputs\n",
    "x_train = preproc_x(x_train)\n",
    "x_test = preproc_x(x_test)\n",
    "\n",
    "# Preprc the outputs\n",
    "y_train = preproc_y(y_train)\n",
    "y_test = preproc_y(y_test)"
   ]
  },
  {
   "cell_type": "code",
   "execution_count": 17,
   "metadata": {},
   "outputs": [],
   "source": [
    "\n",
    "from keras.layers import BatchNormalization\n",
    "\n",
    "\"\"\"\n",
    "建立神經網路，並加入 BN layer\n",
    "\"\"\"\n",
    "def build_mlp(input_shape, output_units=10, num_neurons=[512, 256, 128]):\n",
    "    input_layer = keras.layers.Input(input_shape)\n",
    "    x = BatchNormalization()(input_layer)\n",
    "    for i, n_units in enumerate(num_neurons):\n",
    "        if i == 0:\n",
    "            x = keras.layers.Dense(units=n_units, \n",
    "                                   activation=\"relu\", \n",
    "                                   name=\"hidden_layer\"+str(i+1))(input_layer)\n",
    "            #x = BatchNormalization()(x)\n",
    "        else:\n",
    "            x = keras.layers.Dense(units=n_units, \n",
    "                                   activation=\"relu\", \n",
    "                                   name=\"hidden_layer\"+str(i+1))(x)\n",
    "            #x = BatchNormalization()(x)\n",
    "    \n",
    "    out = keras.layers.Dense(units=output_units, activation=\"softmax\", name=\"output\")(x)\n",
    "    \n",
    "    model = keras.models.Model(inputs=[input_layer], outputs=[out])\n",
    "    return model"
   ]
  },
  {
   "cell_type": "code",
   "execution_count": 18,
   "metadata": {},
   "outputs": [],
   "source": [
    "\"\"\"Code Here\n",
    "設定超參數\n",
    "\"\"\"\n",
    "LEARNING_RATE = 1e-3\n",
    "EPOCHS = 50\n",
    "BATCH_SIZE = 256\n",
    "MOMENTUM = 0.95"
   ]
  },
  {
   "cell_type": "code",
   "execution_count": 23,
   "metadata": {
    "scrolled": true
   },
   "outputs": [
    {
     "name": "stderr",
     "output_type": "stream",
     "text": [
      "W0722 12:43:37.521906  8172 deprecation.py:323] From C:\\Users\\User\\AppData\\Roaming\\Python\\Python36\\site-packages\\tensorflow\\python\\ops\\math_grad.py:1250: add_dispatch_support.<locals>.wrapper (from tensorflow.python.ops.array_ops) is deprecated and will be removed in a future version.\n",
      "Instructions for updating:\n",
      "Use tf.where in 2.0, which has the same broadcast rule as np.where\n"
     ]
    },
    {
     "name": "stdout",
     "output_type": "stream",
     "text": [
      "_________________________________________________________________\n",
      "Layer (type)                 Output Shape              Param #   \n",
      "=================================================================\n",
      "input_11 (InputLayer)        (None, 3072)              0         \n",
      "_________________________________________________________________\n",
      "hidden_layer1 (Dense)        (None, 512)               1573376   \n",
      "_________________________________________________________________\n",
      "hidden_layer2 (Dense)        (None, 256)               131328    \n",
      "_________________________________________________________________\n",
      "hidden_layer3 (Dense)        (None, 128)               32896     \n",
      "_________________________________________________________________\n",
      "output (Dense)               (None, 10)                1290      \n",
      "=================================================================\n",
      "Total params: 1,738,890\n",
      "Trainable params: 1,738,890\n",
      "Non-trainable params: 0\n",
      "_________________________________________________________________\n",
      "Train on 50000 samples, validate on 10000 samples\n",
      "Epoch 1/50\n",
      "50000/50000 [==============================] - 10s 194us/step - loss: 2.0301 - acc: 0.2767 - val_loss: 1.8596 - val_acc: 0.3518\n",
      "Epoch 2/50\n",
      "50000/50000 [==============================] - 7s 145us/step - loss: 1.8028 - acc: 0.3668 - val_loss: 1.7485 - val_acc: 0.3901\n",
      "Epoch 3/50\n",
      "50000/50000 [==============================] - 8s 155us/step - loss: 1.7165 - acc: 0.3986 - val_loss: 1.6910 - val_acc: 0.4053\n",
      "Epoch 4/50\n",
      "50000/50000 [==============================] - 8s 155us/step - loss: 1.6579 - acc: 0.4183 - val_loss: 1.6384 - val_acc: 0.4198\n",
      "Epoch 5/50\n",
      "50000/50000 [==============================] - 8s 156us/step - loss: 1.6096 - acc: 0.4351 - val_loss: 1.6048 - val_acc: 0.4335\n",
      "Epoch 6/50\n",
      "50000/50000 [==============================] - 7s 147us/step - loss: 1.5695 - acc: 0.4509 - val_loss: 1.5752 - val_acc: 0.4475\n",
      "Epoch 7/50\n",
      "50000/50000 [==============================] - 7s 149us/step - loss: 1.5354 - acc: 0.4589 - val_loss: 1.5391 - val_acc: 0.4593\n",
      "Epoch 8/50\n",
      "50000/50000 [==============================] - 7s 146us/step - loss: 1.5064 - acc: 0.4702 - val_loss: 1.5274 - val_acc: 0.4626\n",
      "Epoch 9/50\n",
      "50000/50000 [==============================] - 7s 147us/step - loss: 1.4772 - acc: 0.4800 - val_loss: 1.5015 - val_acc: 0.4649\n",
      "Epoch 10/50\n",
      "50000/50000 [==============================] - 8s 151us/step - loss: 1.4531 - acc: 0.4878 - val_loss: 1.4779 - val_acc: 0.4735\n",
      "Epoch 11/50\n",
      "50000/50000 [==============================] - 7s 149us/step - loss: 1.4287 - acc: 0.4963 - val_loss: 1.4774 - val_acc: 0.4721\n",
      "Epoch 12/50\n",
      "50000/50000 [==============================] - 8s 151us/step - loss: 1.4049 - acc: 0.5054 - val_loss: 1.4899 - val_acc: 0.4669\n",
      "Epoch 13/50\n",
      "50000/50000 [==============================] - 7s 146us/step - loss: 1.3841 - acc: 0.5138 - val_loss: 1.4546 - val_acc: 0.4870\n",
      "Epoch 14/50\n",
      "50000/50000 [==============================] - 8s 160us/step - loss: 1.3628 - acc: 0.5215 - val_loss: 1.4392 - val_acc: 0.4890\n",
      "Epoch 15/50\n",
      "50000/50000 [==============================] - 7s 147us/step - loss: 1.3427 - acc: 0.5283 - val_loss: 1.4379 - val_acc: 0.4885\n",
      "Epoch 16/50\n",
      "50000/50000 [==============================] - 8s 158us/step - loss: 1.3244 - acc: 0.5358 - val_loss: 1.4376 - val_acc: 0.4892\n",
      "Epoch 17/50\n",
      "50000/50000 [==============================] - 7s 147us/step - loss: 1.3071 - acc: 0.5410 - val_loss: 1.3982 - val_acc: 0.4999\n",
      "Epoch 18/50\n",
      "50000/50000 [==============================] - 8s 153us/step - loss: 1.2899 - acc: 0.5474 - val_loss: 1.4337 - val_acc: 0.4923\n",
      "Epoch 19/50\n",
      "50000/50000 [==============================] - 8s 151us/step - loss: 1.2737 - acc: 0.5506 - val_loss: 1.3916 - val_acc: 0.5064\n",
      "Epoch 20/50\n",
      "50000/50000 [==============================] - 8s 158us/step - loss: 1.2580 - acc: 0.5580 - val_loss: 1.3867 - val_acc: 0.5026\n",
      "Epoch 21/50\n",
      "50000/50000 [==============================] - 8s 151us/step - loss: 1.2434 - acc: 0.5631 - val_loss: 1.4457 - val_acc: 0.4892\n",
      "Epoch 22/50\n",
      "50000/50000 [==============================] - 8s 157us/step - loss: 1.2274 - acc: 0.5679 - val_loss: 1.3942 - val_acc: 0.5075\n",
      "Epoch 23/50\n",
      "50000/50000 [==============================] - 8s 152us/step - loss: 1.2109 - acc: 0.5740 - val_loss: 1.3881 - val_acc: 0.5041\n",
      "Epoch 24/50\n",
      "50000/50000 [==============================] - 8s 151us/step - loss: 1.1980 - acc: 0.5786 - val_loss: 1.3494 - val_acc: 0.5229\n",
      "Epoch 25/50\n",
      "50000/50000 [==============================] - 8s 152us/step - loss: 1.1815 - acc: 0.5845 - val_loss: 1.3881 - val_acc: 0.5082\n",
      "Epoch 26/50\n",
      "50000/50000 [==============================] - 8s 151us/step - loss: 1.1705 - acc: 0.5872 - val_loss: 1.3469 - val_acc: 0.5235\n",
      "Epoch 27/50\n",
      "50000/50000 [==============================] - 8s 154us/step - loss: 1.1574 - acc: 0.5937 - val_loss: 1.3606 - val_acc: 0.5218\n",
      "Epoch 28/50\n",
      "50000/50000 [==============================] - 8s 151us/step - loss: 1.1399 - acc: 0.5994 - val_loss: 1.3346 - val_acc: 0.5311\n",
      "Epoch 29/50\n",
      "50000/50000 [==============================] - 8s 155us/step - loss: 1.1283 - acc: 0.6045 - val_loss: 1.3558 - val_acc: 0.5179\n",
      "Epoch 30/50\n",
      "50000/50000 [==============================] - 7s 149us/step - loss: 1.1134 - acc: 0.6110 - val_loss: 1.4390 - val_acc: 0.5047\n",
      "Epoch 31/50\n",
      "50000/50000 [==============================] - 8s 158us/step - loss: 1.1005 - acc: 0.6145 - val_loss: 1.4000 - val_acc: 0.5080\n",
      "Epoch 32/50\n",
      "50000/50000 [==============================] - 7s 149us/step - loss: 1.0903 - acc: 0.6157 - val_loss: 1.3327 - val_acc: 0.5250\n",
      "Epoch 33/50\n",
      "50000/50000 [==============================] - 8s 159us/step - loss: 1.0776 - acc: 0.6214 - val_loss: 1.3841 - val_acc: 0.5186\n",
      "Epoch 34/50\n",
      "50000/50000 [==============================] - 7s 148us/step - loss: 1.0631 - acc: 0.6282 - val_loss: 1.3450 - val_acc: 0.5289\n",
      "Epoch 35/50\n",
      "50000/50000 [==============================] - 8s 168us/step - loss: 1.0475 - acc: 0.6322 - val_loss: 1.3398 - val_acc: 0.5284\n",
      "Epoch 36/50\n",
      "50000/50000 [==============================] - 8s 155us/step - loss: 1.0323 - acc: 0.6396 - val_loss: 1.3284 - val_acc: 0.5342\n",
      "Epoch 37/50\n",
      "50000/50000 [==============================] - 9s 172us/step - loss: 1.0234 - acc: 0.6387 - val_loss: 1.3832 - val_acc: 0.5224\n",
      "Epoch 38/50\n",
      "50000/50000 [==============================] - 8s 155us/step - loss: 1.0107 - acc: 0.6452 - val_loss: 1.3593 - val_acc: 0.5250\n",
      "Epoch 39/50\n",
      "50000/50000 [==============================] - 8s 165us/step - loss: 0.9973 - acc: 0.6502 - val_loss: 1.3864 - val_acc: 0.5158\n",
      "Epoch 40/50\n",
      "50000/50000 [==============================] - 7s 149us/step - loss: 0.9891 - acc: 0.6523 - val_loss: 1.4066 - val_acc: 0.5185\n",
      "Epoch 41/50\n",
      "50000/50000 [==============================] - 8s 164us/step - loss: 0.9759 - acc: 0.6599 - val_loss: 1.4385 - val_acc: 0.5056\n",
      "Epoch 42/50\n",
      "50000/50000 [==============================] - 8s 151us/step - loss: 0.9588 - acc: 0.6646 - val_loss: 1.3822 - val_acc: 0.5194\n",
      "Epoch 43/50\n",
      "50000/50000 [==============================] - 8s 162us/step - loss: 0.9508 - acc: 0.6689 - val_loss: 1.3596 - val_acc: 0.5318\n",
      "Epoch 44/50\n",
      "50000/50000 [==============================] - 8s 152us/step - loss: 0.9367 - acc: 0.6728 - val_loss: 1.5415 - val_acc: 0.4841\n",
      "Epoch 45/50\n",
      "50000/50000 [==============================] - 8s 162us/step - loss: 0.9237 - acc: 0.6762 - val_loss: 1.4225 - val_acc: 0.5216\n",
      "Epoch 46/50\n",
      "50000/50000 [==============================] - 8s 151us/step - loss: 0.9104 - acc: 0.6804 - val_loss: 1.3663 - val_acc: 0.5344\n",
      "Epoch 47/50\n",
      "50000/50000 [==============================] - 8s 163us/step - loss: 0.9009 - acc: 0.6836 - val_loss: 1.3565 - val_acc: 0.5346\n",
      "Epoch 48/50\n",
      "50000/50000 [==============================] - 8s 158us/step - loss: 0.8881 - acc: 0.6887 - val_loss: 1.4226 - val_acc: 0.5230\n",
      "Epoch 49/50\n",
      "50000/50000 [==============================] - 8s 164us/step - loss: 0.8810 - acc: 0.6894 - val_loss: 1.5060 - val_acc: 0.5022\n",
      "Epoch 50/50\n",
      "50000/50000 [==============================] - 8s 151us/step - loss: 0.8645 - acc: 0.6985 - val_loss: 1.5169 - val_acc: 0.5076\n"
     ]
    },
    {
     "ename": "NameError",
     "evalue": "name 'exp_name_tag' is not defined",
     "output_type": "error",
     "traceback": [
      "\u001b[1;31m---------------------------------------------------------------------------\u001b[0m",
      "\u001b[1;31mNameError\u001b[0m                                 Traceback (most recent call last)",
      "\u001b[1;32m<ipython-input-23-68cdfcd3c054>\u001b[0m in \u001b[0;36m<module>\u001b[1;34m()\u001b[0m\n\u001b[0;32m     22\u001b[0m                          \u001b[1;34m'valid-loss'\u001b[0m\u001b[1;33m:\u001b[0m \u001b[0mvalid_loss\u001b[0m\u001b[1;33m,\u001b[0m\u001b[1;33m\u001b[0m\u001b[0m\n\u001b[0;32m     23\u001b[0m                          \u001b[1;34m'train-acc'\u001b[0m\u001b[1;33m:\u001b[0m \u001b[0mtrain_acc\u001b[0m\u001b[1;33m,\u001b[0m\u001b[1;33m\u001b[0m\u001b[0m\n\u001b[1;32m---> 24\u001b[1;33m                          'valid-acc': valid_acc}\n\u001b[0m",
      "\u001b[1;31mNameError\u001b[0m: name 'exp_name_tag' is not defined"
     ]
    }
   ],
   "source": [
    "results = {}\n",
    "\"\"\"Code Here\n",
    "撰寫你的訓練流程並將結果用 dictionary 紀錄\n",
    "\"\"\"\n",
    "model = build_mlp(input_shape=x_train.shape[1:])\n",
    "model.summary()\n",
    "optimizer = keras.optimizers.SGD(lr=LEARNING_RATE, nesterov=True, momentum=MOMENTUM)\n",
    "model.compile(loss=\"categorical_crossentropy\", metrics=[\"accuracy\"], optimizer=optimizer)\n",
    "\n",
    "model.fit(x_train, y_train, \n",
    "          epochs=EPOCHS, \n",
    "          batch_size=BATCH_SIZE, \n",
    "          validation_data=(x_test, y_test), \n",
    "          shuffle=True)\n",
    "\n",
    "# Collect results\n",
    "train_loss = model.history.history[\"loss\"]\n",
    "valid_loss = model.history.history[\"val_loss\"]\n",
    "train_acc = model.history.history[\"acc\"]\n",
    "valid_acc = model.history.history[\"val_acc\"]\n",
    "results[exp_name_tag] = {'train-loss': train_loss,\n",
    "                         'valid-loss': valid_loss,\n",
    "                         'train-acc': train_acc,\n",
    "                         'valid-acc': valid_acc}"
   ]
  },
  {
   "cell_type": "code",
   "execution_count": 24,
   "metadata": {},
   "outputs": [
    {
     "data": {
      "image/png": "[encoded data removed]",
      "text/plain": [
       "<Figure size 432x288 with 1 Axes>"
      ]
     },
     "metadata": {},
     "output_type": "display_data"
    },
    {
     "data": {
      "image/png": "[encoded data removed]",
      "text/plain": [
       "<Figure size 432x288 with 1 Axes>"
      ]
     },
     "metadata": {},
     "output_type": "display_data"
    }
   ],
   "source": [
    "import matplotlib.pyplot as plt\n",
    "%matplotlib inline\n",
    "\"\"\"Code Here\n",
    "將結果繪出\n",
    "\"\"\"\n",
    "plt.plot(range(len(train_loss)), train_loss, label=\"train loss\")\n",
    "plt.plot(range(len(valid_loss)), valid_loss, label=\"valid loss\")\n",
    "plt.legend()\n",
    "plt.title(\"Loss\")\n",
    "plt.show()\n",
    "\n",
    "plt.plot(range(len(train_acc)), train_acc, label=\"train accuracy\")\n",
    "plt.plot(range(len(valid_acc)), valid_acc, label=\"valid accuracy\")\n",
    "plt.legend()\n",
    "plt.title(\"Accuracy\")\n",
    "plt.show()"
   ]
  },
  {
   "cell_type": "code",
   "execution_count": null,
   "metadata": {},
   "outputs": [],
   "source": []
  }
 ],
 "metadata": {
  "kernelspec": {
   "display_name": "Python 3",
   "language": "python",
   "name": "python3"
  },
  "language_info": {
   "codemirror_mode": {
    "name": "ipython",
    "version": 3
   },
   "file_extension": ".py",
   "mimetype": "text/x-python",
   "name": "python",
   "nbconvert_exporter": "python",
   "pygments_lexer": "ipython3",
   "version": "3.6.5"
  }
 },
 "nbformat": 4,
 "nbformat_minor": 2
}
