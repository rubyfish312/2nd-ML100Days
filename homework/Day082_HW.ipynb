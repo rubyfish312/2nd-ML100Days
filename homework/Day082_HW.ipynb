{
 "cells": [
  {
   "cell_type": "markdown",
   "metadata": {},
   "source": [
    "## Work\n",
    "1. 請比較使用不同層數以及不同 Dropout rate 對訓練的效果\n",
    "2. 將 optimizer 改成使用 Adam 並加上適當的 dropout rate 檢視結果"
   ]
  },
  {
   "cell_type": "code",
   "execution_count": 1,
   "metadata": {},
   "outputs": [
    {
     "name": "stderr",
     "output_type": "stream",
     "text": [
      "Using TensorFlow backend.\n"
     ]
    }
   ],
   "source": [
    "import os\n",
    "import keras\n",
    "import itertools\n",
    "# Disable GPU\n",
    "os.environ[\"CUDA_VISIBLE_DEVICES\"] = \"\""
   ]
  },
  {
   "cell_type": "code",
   "execution_count": 2,
   "metadata": {},
   "outputs": [],
   "source": [
    "train, test = keras.datasets.cifar10.load_data()"
   ]
  },
  {
   "cell_type": "code",
   "execution_count": 3,
   "metadata": {},
   "outputs": [],
   "source": [
    "## 資料前處理\n",
    "def preproc_x(x, flatten=True):\n",
    "    x = x / 255.\n",
    "    if flatten:\n",
    "        x = x.reshape((len(x), -1))\n",
    "    return x\n",
    "\n",
    "def preproc_y(y, num_classes=10):\n",
    "    if y.shape[-1] == 1:\n",
    "        y = keras.utils.to_categorical(y, num_classes)\n",
    "    return y    "
   ]
  },
  {
   "cell_type": "code",
   "execution_count": 4,
   "metadata": {},
   "outputs": [],
   "source": [
    "x_train, y_train = train\n",
    "x_test, y_test = test\n",
    "\n",
    "# Preproc the inputs\n",
    "x_train = preproc_x(x_train)\n",
    "x_test = preproc_x(x_test)\n",
    "\n",
    "# Preprc the outputs\n",
    "y_train = preproc_y(y_train)\n",
    "y_test = preproc_y(y_test)"
   ]
  },
  {
   "cell_type": "code",
   "execution_count": 5,
   "metadata": {},
   "outputs": [],
   "source": [
    "from keras.layers import Dropout\n",
    "\n",
    "\"\"\"\n",
    "建立神經網路，並加入 dropout layer\n",
    "\"\"\"\n",
    "def build_mlp(input_shape, output_units=10, num_neurons=[512, 256, 128], drp_ratio=0.1):\n",
    "    input_layer = keras.layers.Input(input_shape)\n",
    "    \n",
    "    for i, n_units in enumerate(num_neurons):\n",
    "        if i == 0:\n",
    "            x = keras.layers.Dense(units=n_units, \n",
    "                                   activation=\"relu\", \n",
    "                                   name=\"hidden_layer\"+str(i+1))(input_layer)\n",
    "            x = Dropout(drp_ratio)(x)\n",
    "        else:\n",
    "            x = keras.layers.Dense(units=n_units, \n",
    "                                   activation=\"relu\", \n",
    "                                   name=\"hidden_layer\"+str(i+1))(x)\n",
    "            x = Dropout(drp_ratio)(x)\n",
    "    \n",
    "    out = keras.layers.Dense(units=output_units, activation=\"softmax\", name=\"output\")(x)\n",
    "    \n",
    "    model = keras.models.Model(inputs=[input_layer], outputs=[out])\n",
    "    return model"
   ]
  },
  {
   "cell_type": "code",
   "execution_count": 6,
   "metadata": {},
   "outputs": [],
   "source": [
    "\"\"\"Code Here\n",
    "設定超參數\n",
    "\"\"\"\n",
    "## 超參數設定\n",
    "LEARNING_RATE = 1e-3\n",
    "EPOCHS = 50\n",
    "BATCH_SIZE = 256\n",
    "MOMENTUM = 0.95\n",
    "Dropout_EXP = 0.25"
   ]
  },
  {
   "cell_type": "code",
   "execution_count": 9,
   "metadata": {
    "scrolled": true
   },
   "outputs": [
    {
     "name": "stderr",
     "output_type": "stream",
     "text": [
      "W0722 09:26:36.612094  8256 deprecation_wrapper.py:119] From C:\\Users\\User\\AppData\\Roaming\\Python\\Python36\\site-packages\\keras\\optimizers.py:757: The name tf.train.Optimizer is deprecated. Please use tf.compat.v1.train.Optimizer instead.\n",
      "\n",
      "W0722 09:26:36.627034  8256 deprecation_wrapper.py:119] From C:\\Users\\User\\AppData\\Roaming\\Python\\Python36\\site-packages\\keras\\backend\\tensorflow_backend.py:3213: The name tf.log is deprecated. Please use tf.math.log instead.\n",
      "\n",
      "W0722 09:26:36.759234  8256 deprecation.py:323] From C:\\Users\\User\\AppData\\Roaming\\Python\\Python36\\site-packages\\tensorflow\\python\\ops\\math_grad.py:1250: add_dispatch_support.<locals>.wrapper (from tensorflow.python.ops.array_ops) is deprecated and will be removed in a future version.\n",
      "Instructions for updating:\n",
      "Use tf.where in 2.0, which has the same broadcast rule as np.where\n"
     ]
    },
    {
     "name": "stdout",
     "output_type": "stream",
     "text": [
      "_________________________________________________________________\n",
      "Layer (type)                 Output Shape              Param #   \n",
      "=================================================================\n",
      "input_3 (InputLayer)         (None, 3072)              0         \n",
      "_________________________________________________________________\n",
      "hidden_layer1 (Dense)        (None, 512)               1573376   \n",
      "_________________________________________________________________\n",
      "dropout_7 (Dropout)          (None, 512)               0         \n",
      "_________________________________________________________________\n",
      "hidden_layer2 (Dense)        (None, 256)               131328    \n",
      "_________________________________________________________________\n",
      "dropout_8 (Dropout)          (None, 256)               0         \n",
      "_________________________________________________________________\n",
      "hidden_layer3 (Dense)        (None, 128)               32896     \n",
      "_________________________________________________________________\n",
      "dropout_9 (Dropout)          (None, 128)               0         \n",
      "_________________________________________________________________\n",
      "output (Dense)               (None, 10)                1290      \n",
      "=================================================================\n",
      "Total params: 1,738,890\n",
      "Trainable params: 1,738,890\n",
      "Non-trainable params: 0\n",
      "_________________________________________________________________\n",
      "Train on 50000 samples, validate on 10000 samples\n",
      "Epoch 1/50\n",
      "50000/50000 [==============================] - 15s 308us/step - loss: 2.0669 - acc: 0.2368 - val_loss: 1.8592 - val_acc: 0.3221\n",
      "Epoch 2/50\n",
      "50000/50000 [==============================] - 12s 246us/step - loss: 1.8852 - acc: 0.3135 - val_loss: 1.7389 - val_acc: 0.3772\n",
      "Epoch 3/50\n",
      "50000/50000 [==============================] - 12s 245us/step - loss: 1.8211 - acc: 0.3425 - val_loss: 1.7067 - val_acc: 0.3972\n",
      "Epoch 4/50\n",
      "50000/50000 [==============================] - 12s 240us/step - loss: 1.7868 - acc: 0.3526 - val_loss: 1.7317 - val_acc: 0.3743\n",
      "Epoch 5/50\n",
      "50000/50000 [==============================] - 12s 245us/step - loss: 1.7619 - acc: 0.3604 - val_loss: 1.6487 - val_acc: 0.4117\n",
      "Epoch 6/50\n",
      "50000/50000 [==============================] - 13s 252us/step - loss: 1.7359 - acc: 0.3711 - val_loss: 1.6281 - val_acc: 0.4191\n",
      "Epoch 7/50\n",
      "50000/50000 [==============================] - 12s 247us/step - loss: 1.7101 - acc: 0.3806 - val_loss: 1.6097 - val_acc: 0.4294\n",
      "Epoch 8/50\n",
      "50000/50000 [==============================] - 12s 242us/step - loss: 1.7003 - acc: 0.3882 - val_loss: 1.6090 - val_acc: 0.4316\n",
      "Epoch 9/50\n",
      "50000/50000 [==============================] - 12s 246us/step - loss: 1.6813 - acc: 0.3914 - val_loss: 1.6513 - val_acc: 0.4169\n",
      "Epoch 10/50\n",
      "50000/50000 [==============================] - 13s 253us/step - loss: 1.6704 - acc: 0.3974 - val_loss: 1.5901 - val_acc: 0.4396\n",
      "Epoch 11/50\n",
      "50000/50000 [==============================] - 12s 248us/step - loss: 1.6518 - acc: 0.4040 - val_loss: 1.5607 - val_acc: 0.4533\n",
      "Epoch 12/50\n",
      "50000/50000 [==============================] - 12s 248us/step - loss: 1.6413 - acc: 0.4089 - val_loss: 1.5809 - val_acc: 0.4516\n",
      "Epoch 13/50\n",
      "50000/50000 [==============================] - 12s 249us/step - loss: 1.6387 - acc: 0.4089 - val_loss: 1.5844 - val_acc: 0.4471\n",
      "Epoch 14/50\n",
      "50000/50000 [==============================] - 13s 255us/step - loss: 1.6309 - acc: 0.4096 - val_loss: 1.5511 - val_acc: 0.4540\n",
      "Epoch 15/50\n",
      "50000/50000 [==============================] - 13s 252us/step - loss: 1.6211 - acc: 0.4169 - val_loss: 1.5882 - val_acc: 0.4485\n",
      "Epoch 16/50\n",
      "50000/50000 [==============================] - 13s 251us/step - loss: 1.6210 - acc: 0.4138 - val_loss: 1.5478 - val_acc: 0.4530\n",
      "Epoch 17/50\n",
      "50000/50000 [==============================] - 12s 249us/step - loss: 1.6081 - acc: 0.4204 - val_loss: 1.5541 - val_acc: 0.4557\n",
      "Epoch 18/50\n",
      "50000/50000 [==============================] - 13s 250us/step - loss: 1.6060 - acc: 0.4205 - val_loss: 1.5301 - val_acc: 0.4705\n",
      "Epoch 19/50\n",
      "50000/50000 [==============================] - 13s 255us/step - loss: 1.5972 - acc: 0.4249 - val_loss: 1.5366 - val_acc: 0.4597\n",
      "Epoch 20/50\n",
      "50000/50000 [==============================] - 13s 254us/step - loss: 1.5912 - acc: 0.4282 - val_loss: 1.5334 - val_acc: 0.4629\n",
      "Epoch 21/50\n",
      "50000/50000 [==============================] - 13s 252us/step - loss: 1.5921 - acc: 0.4277 - val_loss: 1.5119 - val_acc: 0.4699\n",
      "Epoch 22/50\n",
      "50000/50000 [==============================] - 13s 254us/step - loss: 1.5831 - acc: 0.4294 - val_loss: 1.5172 - val_acc: 0.4658\n",
      "Epoch 23/50\n",
      "50000/50000 [==============================] - 13s 253us/step - loss: 1.5776 - acc: 0.4323 - val_loss: 1.5138 - val_acc: 0.4751\n",
      "Epoch 24/50\n",
      "50000/50000 [==============================] - 13s 255us/step - loss: 1.5730 - acc: 0.4342 - val_loss: 1.5089 - val_acc: 0.4755\n",
      "Epoch 25/50\n",
      "50000/50000 [==============================] - 13s 254us/step - loss: 1.5705 - acc: 0.4355 - val_loss: 1.4989 - val_acc: 0.4744\n",
      "Epoch 26/50\n",
      "50000/50000 [==============================] - 12s 249us/step - loss: 1.5574 - acc: 0.4422 - val_loss: 1.5178 - val_acc: 0.4640\n",
      "Epoch 27/50\n",
      "50000/50000 [==============================] - 12s 244us/step - loss: 1.5543 - acc: 0.4443 - val_loss: 1.4920 - val_acc: 0.4751\n",
      "Epoch 28/50\n",
      "50000/50000 [==============================] - 12s 247us/step - loss: 1.5556 - acc: 0.4428 - val_loss: 1.5090 - val_acc: 0.4706\n",
      "Epoch 29/50\n",
      "50000/50000 [==============================] - 12s 245us/step - loss: 1.5514 - acc: 0.4435 - val_loss: 1.4853 - val_acc: 0.4790\n",
      "Epoch 30/50\n",
      "50000/50000 [==============================] - 12s 243us/step - loss: 1.5472 - acc: 0.4436 - val_loss: 1.5247 - val_acc: 0.4664\n",
      "Epoch 31/50\n",
      "50000/50000 [==============================] - 12s 236us/step - loss: 1.5451 - acc: 0.4463 - val_loss: 1.4956 - val_acc: 0.4786\n",
      "Epoch 32/50\n",
      "50000/50000 [==============================] - 12s 238us/step - loss: 1.5430 - acc: 0.4433 - val_loss: 1.4843 - val_acc: 0.4720\n",
      "Epoch 33/50\n",
      "50000/50000 [==============================] - 12s 242us/step - loss: 1.5437 - acc: 0.4447 - val_loss: 1.5091 - val_acc: 0.4712\n",
      "Epoch 34/50\n",
      "50000/50000 [==============================] - 12s 237us/step - loss: 1.5298 - acc: 0.4484 - val_loss: 1.4775 - val_acc: 0.4844\n",
      "Epoch 35/50\n",
      "50000/50000 [==============================] - 12s 230us/step - loss: 1.5308 - acc: 0.4519 - val_loss: 1.5146 - val_acc: 0.4628\n",
      "Epoch 36/50\n",
      "50000/50000 [==============================] - 12s 240us/step - loss: 1.5285 - acc: 0.4483 - val_loss: 1.4737 - val_acc: 0.4878\n",
      "Epoch 37/50\n",
      "50000/50000 [==============================] - 12s 238us/step - loss: 1.5212 - acc: 0.4530 - val_loss: 1.4695 - val_acc: 0.4795\n",
      "Epoch 38/50\n",
      "50000/50000 [==============================] - 12s 230us/step - loss: 1.5201 - acc: 0.4540 - val_loss: 1.4724 - val_acc: 0.4775\n",
      "Epoch 39/50\n",
      "50000/50000 [==============================] - 12s 234us/step - loss: 1.5141 - acc: 0.4534 - val_loss: 1.4764 - val_acc: 0.4771\n",
      "Epoch 40/50\n",
      "50000/50000 [==============================] - 12s 236us/step - loss: 1.5235 - acc: 0.4554 - val_loss: 1.4842 - val_acc: 0.4708\n",
      "Epoch 41/50\n",
      "50000/50000 [==============================] - 12s 234us/step - loss: 1.5174 - acc: 0.4567 - val_loss: 1.4517 - val_acc: 0.4926\n",
      "Epoch 42/50\n",
      "50000/50000 [==============================] - 12s 232us/step - loss: 1.5056 - acc: 0.4582 - val_loss: 1.4842 - val_acc: 0.4741\n",
      "Epoch 43/50\n",
      "50000/50000 [==============================] - 12s 233us/step - loss: 1.5100 - acc: 0.4590 - val_loss: 1.4686 - val_acc: 0.4797\n",
      "Epoch 44/50\n",
      "50000/50000 [==============================] - 12s 237us/step - loss: 1.5084 - acc: 0.4595 - val_loss: 1.4607 - val_acc: 0.4799\n",
      "Epoch 45/50\n",
      "50000/50000 [==============================] - 12s 240us/step - loss: 1.5025 - acc: 0.4630 - val_loss: 1.4588 - val_acc: 0.4833\n",
      "Epoch 46/50\n",
      "50000/50000 [==============================] - 12s 235us/step - loss: 1.4989 - acc: 0.4640 - val_loss: 1.4505 - val_acc: 0.4876\n",
      "Epoch 47/50\n",
      "50000/50000 [==============================] - 12s 242us/step - loss: 1.4999 - acc: 0.4623 - val_loss: 1.4546 - val_acc: 0.4888\n",
      "Epoch 48/50\n",
      "50000/50000 [==============================] - 12s 240us/step - loss: 1.4910 - acc: 0.4646 - val_loss: 1.4512 - val_acc: 0.4815\n",
      "Epoch 49/50\n",
      "50000/50000 [==============================] - 12s 236us/step - loss: 1.4913 - acc: 0.4670 - val_loss: 1.4600 - val_acc: 0.4772\n",
      "Epoch 50/50\n",
      "50000/50000 [==============================] - 11s 227us/step - loss: 1.5045 - acc: 0.4609 - val_loss: 1.4662 - val_acc: 0.4875\n"
     ]
    }
   ],
   "source": [
    "results = {}\n",
    "\"\"\"Code Here\n",
    "撰寫你的訓練流程並將結果用 dictionary 紀錄\n",
    "\"\"\"\n",
    "model = build_mlp(input_shape=x_train.shape[1:], drp_ratio=Dropout_EXP)\n",
    "model.summary()\n",
    "#optimizer = keras.optimizers.SGD(lr=LEARNING_RATE, nesterov=True, momentum=MOMENTUM)\n",
    "optimizer = keras.optimizers.Adam(lr=LEARNING_RATE, beta_1=0.9, beta_2=0.999, epsilon=None, decay=0.0,amsgrad=False)\n",
    "model.compile(loss=\"categorical_crossentropy\", metrics=[\"accuracy\"], optimizer=optimizer)\n",
    "\n",
    "model.fit(x_train, y_train, \n",
    "          epochs=EPOCHS, \n",
    "          batch_size=BATCH_SIZE, \n",
    "          validation_data=(x_test, y_test), \n",
    "          shuffle=True)\n",
    "\n",
    "# Collect results\n",
    "train_loss = model.history.history[\"loss\"]\n",
    "valid_loss = model.history.history[\"val_loss\"]\n",
    "train_acc = model.history.history[\"acc\"]\n",
    "valid_acc = model.history.history[\"val_acc\"]"
   ]
  },
  {
   "cell_type": "code",
   "execution_count": 10,
   "metadata": {},
   "outputs": [
    {
     "data": {
      "image/png": "[encoded data removed]",
      "text/plain": [
       "<Figure size 432x288 with 1 Axes>"
      ]
     },
     "metadata": {},
     "output_type": "display_data"
    },
    {
     "data": {
      "image/png": "[encoded data removed]",
      "text/plain": [
       "<Figure size 432x288 with 1 Axes>"
      ]
     },
     "metadata": {},
     "output_type": "display_data"
    }
   ],
   "source": [
    "import matplotlib.pyplot as plt\n",
    "%matplotlib inline\n",
    "\"\"\"Code Here\n",
    "將結果繪出\n",
    "\"\"\"\n",
    "plt.plot(range(len(train_loss)), train_loss, label=\"train loss\")\n",
    "plt.plot(range(len(valid_loss)), valid_loss, label=\"valid loss\")\n",
    "plt.legend()\n",
    "plt.title(\"Loss\")\n",
    "plt.show()\n",
    "\n",
    "plt.plot(range(len(train_acc)), train_acc, label=\"train accuracy\")\n",
    "plt.plot(range(len(valid_acc)), valid_acc, label=\"valid accuracy\")\n",
    "plt.legend()\n",
    "plt.title(\"Accuracy\")\n",
    "plt.show()"
   ]
  },
  {
   "cell_type": "code",
   "execution_count": null,
   "metadata": {},
   "outputs": [],
   "source": []
  }
 ],
 "metadata": {
  "kernelspec": {
   "display_name": "Python 3",
   "language": "python",
   "name": "python3"
  },
  "language_info": {
   "codemirror_mode": {
    "name": "ipython",
    "version": 3
   },
   "file_extension": ".py",
   "mimetype": "text/x-python",
   "name": "python",
   "nbconvert_exporter": "python",
   "pygments_lexer": "ipython3",
   "version": "3.6.5"
  }
 },
 "nbformat": 4,
 "nbformat_minor": 2
}
